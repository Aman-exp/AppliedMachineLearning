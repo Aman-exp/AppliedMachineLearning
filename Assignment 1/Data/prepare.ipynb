{
 "cells": [
  {
   "cell_type": "markdown",
   "metadata": {},
   "source": [
    "# SMS Spam Classification - Data Preparation\n",
    "\n",
    "This notebook handles the preparation of SMS spam classification data, including:\n",
    "- Data loading and initial exploration\n",
    "- Text preprocessing\n",
    "- Data splitting for training, validation and testing\n",
    "\n",
    "## Setup and Dependencies"
   ]
  },
  {
   "cell_type": "code",
   "execution_count": 2,
   "metadata": {},
   "outputs": [],
   "source": [
    "# Core data processing libraries\n",
    "import pandas as pd\n",
    "import numpy as np\n",
    "import matplotlib.pyplot as plt\n",
    "import seaborn as sns\n",
    "\n",
    "# NLP libraries\n",
    "import nltk\n",
    "from nltk.tokenize import word_tokenize\n",
    "from nltk.corpus import stopwords\n",
    "from nltk.stem import WordNetLemmatizer\n",
    "\n",
    "# Machine learning utilities\n",
    "from sklearn.model_selection import train_test_split\n",
    "\n",
    "# Set random seed for reproducibility\n",
    "RANDOM_SEED = 42\n",
    "np.random.seed(RANDOM_SEED)\n",
    "\n",
    "# Set seaborn style\n",
    "sns.set_style('whitegrid')  # or other valid seaborn styles like 'white', 'dark', 'darkgrid', 'ticks'\n",
    "sns.set_palette('husl')  # Set seaborn color palette\n"
   ]
  },
  {
   "cell_type": "code",
   "execution_count": 3,
   "metadata": {},
   "outputs": [
    {
     "name": "stderr",
     "output_type": "stream",
     "text": [
      "[nltk_data] Downloading package punkt to /root/nltk_data...\n",
      "[nltk_data]   Package punkt is already up-to-date!\n",
      "[nltk_data] Downloading package stopwords to /root/nltk_data...\n",
      "[nltk_data]   Package stopwords is already up-to-date!\n",
      "[nltk_data] Downloading package wordnet to /root/nltk_data...\n",
      "[nltk_data]   Package wordnet is already up-to-date!\n",
      "[nltk_data] Downloading package omw-1.4 to /root/nltk_data...\n",
      "[nltk_data]   Package omw-1.4 is already up-to-date!\n",
      "[nltk_data] Downloading package punkt_tab to /root/nltk_data...\n",
      "[nltk_data]   Package punkt_tab is already up-to-date!\n"
     ]
    },
    {
     "data": {
      "text/plain": [
       "True"
      ]
     },
     "execution_count": 3,
     "metadata": {},
     "output_type": "execute_result"
    }
   ],
   "source": [
    "# Download required NLTK resources\n",
    "nltk.download('punkt')\n",
    "nltk.download('stopwords')\n",
    "nltk.download('wordnet')\n",
    "nltk.download('omw-1.4')\n",
    "nltk.download('punkt_tab')"
   ]
  },
  {
   "cell_type": "markdown",
   "metadata": {},
   "source": [
    "## Data Loading and Initial Exploration"
   ]
  },
  {
   "cell_type": "code",
   "execution_count": 4,
   "metadata": {},
   "outputs": [
    {
     "name": "stdout",
     "output_type": "stream",
     "text": [
      "Loaded 5572 messages\n"
     ]
    },
    {
     "data": {
      "text/html": [
       "<div>\n",
       "<style scoped>\n",
       "    .dataframe tbody tr th:only-of-type {\n",
       "        vertical-align: middle;\n",
       "    }\n",
       "\n",
       "    .dataframe tbody tr th {\n",
       "        vertical-align: top;\n",
       "    }\n",
       "\n",
       "    .dataframe thead th {\n",
       "        text-align: right;\n",
       "    }\n",
       "</style>\n",
       "<table border=\"1\" class=\"dataframe\">\n",
       "  <thead>\n",
       "    <tr style=\"text-align: right;\">\n",
       "      <th></th>\n",
       "      <th>label</th>\n",
       "      <th>message</th>\n",
       "    </tr>\n",
       "  </thead>\n",
       "  <tbody>\n",
       "    <tr>\n",
       "      <th>0</th>\n",
       "      <td>ham</td>\n",
       "      <td>Go until jurong point, crazy.. Available only ...</td>\n",
       "    </tr>\n",
       "    <tr>\n",
       "      <th>1</th>\n",
       "      <td>ham</td>\n",
       "      <td>Ok lar... Joking wif u oni...</td>\n",
       "    </tr>\n",
       "    <tr>\n",
       "      <th>2</th>\n",
       "      <td>spam</td>\n",
       "      <td>Free entry in 2 a wkly comp to win FA Cup fina...</td>\n",
       "    </tr>\n",
       "    <tr>\n",
       "      <th>3</th>\n",
       "      <td>ham</td>\n",
       "      <td>U dun say so early hor... U c already then say...</td>\n",
       "    </tr>\n",
       "    <tr>\n",
       "      <th>4</th>\n",
       "      <td>ham</td>\n",
       "      <td>Nah I don't think he goes to usf, he lives aro...</td>\n",
       "    </tr>\n",
       "  </tbody>\n",
       "</table>\n",
       "</div>"
      ],
      "text/plain": [
       "  label                                            message\n",
       "0   ham  Go until jurong point, crazy.. Available only ...\n",
       "1   ham                      Ok lar... Joking wif u oni...\n",
       "2  spam  Free entry in 2 a wkly comp to win FA Cup fina...\n",
       "3   ham  U dun say so early hor... U c already then say...\n",
       "4   ham  Nah I don't think he goes to usf, he lives aro..."
      ]
     },
     "execution_count": 4,
     "metadata": {},
     "output_type": "execute_result"
    }
   ],
   "source": [
    "def load_sms_data(filepath):\n",
    "    \"\"\"Load SMS spam dataset from file.\n",
    "    \n",
    "    Args:\n",
    "        filepath (str): Path to the SMS spam collection file\n",
    "        \n",
    "    Returns:\n",
    "        pd.DataFrame: DataFrame with 'label' and 'message' columns\n",
    "    \"\"\"\n",
    "    df = pd.read_csv(\n",
    "        filepath,\n",
    "        sep='\\t',\n",
    "        names=['label', 'message'],\n",
    "        encoding='utf-8'\n",
    "    )\n",
    "    print(f\"Loaded {len(df)} messages\")\n",
    "    return df\n",
    "\n",
    "# Load the dataset\n",
    "df = load_sms_data('SMSSpamCollection')\n",
    "df.head()"
   ]
  },
  {
   "cell_type": "markdown",
   "metadata": {},
   "source": [
    "### Data Quality Check"
   ]
  },
  {
   "cell_type": "code",
   "execution_count": 5,
   "metadata": {},
   "outputs": [
    {
     "name": "stdout",
     "output_type": "stream",
     "text": [
      "=== Data Quality Report ===\n",
      "\n",
      "Missing values:\n",
      "label      0\n",
      "message    0\n",
      "dtype: int64\n",
      "\n",
      "Class distribution:\n",
      "label\n",
      "ham     4825\n",
      "spam     747\n",
      "Name: count, dtype: int64\n",
      "\n",
      "Class balance ratio (spam/ham): 0.15\n"
     ]
    }
   ],
   "source": [
    "def analyze_data_quality(df):\n",
    "    \"\"\"Perform basic data quality checks.\"\"\"\n",
    "    print(\"=== Data Quality Report ===\")\n",
    "    print(f\"\\nMissing values:\\n{df.isnull().sum()}\")\n",
    "    print(f\"\\nClass distribution:\\n{df['label'].value_counts()}\")\n",
    "    print(f\"\\nClass balance ratio (spam/ham): {len(df[df['label']=='spam'])/len(df[df['label']=='ham']):.2f}\")\n",
    "\n",
    "analyze_data_quality(df)"
   ]
  },
  {
   "cell_type": "markdown",
   "metadata": {},
   "source": [
    "### Message Length Analysis"
   ]
  },
  {
   "cell_type": "code",
   "execution_count": 6,
   "metadata": {},
   "outputs": [
    {
     "data": {
      "image/png": "[encoded data removed]",
      "text/plain": [
       "<Figure size 1500x500 with 2 Axes>"
      ]
     },
     "metadata": {},
     "output_type": "display_data"
    },
    {
     "name": "stdout",
     "output_type": "stream",
     "text": [
      "\n",
      "Message length statistics by class:\n",
      "        count        mean        std   min    25%    50%    75%    max\n",
      "label                                                                 \n",
      "ham    4825.0   71.482487  58.440652   2.0   33.0   52.0   93.0  910.0\n",
      "spam    747.0  138.670683  28.873603  13.0  133.0  149.0  157.0  223.0\n"
     ]
    }
   ],
   "source": [
    "def analyze_message_lengths(df):\n",
    "    \"\"\"Analyze and visualize message lengths.\"\"\"\n",
    "    df['length'] = df['message'].str.len()\n",
    "    \n",
    "    # Create figure with two subplots\n",
    "    fig, (ax1, ax2) = plt.subplots(1, 2, figsize=(15, 5))\n",
    "    \n",
    "    # Overall length distribution\n",
    "    sns.histplot(data=df, x='length', bins=50, ax=ax1)\n",
    "    ax1.set_title('Distribution of Message Lengths')\n",
    "    ax1.set_xlabel('Message Length')\n",
    "    \n",
    "    # Length distribution by class\n",
    "    sns.boxplot(data=df, x='label', y='length', ax=ax2)\n",
    "    ax2.set_title('Message Lengths by Class')\n",
    "    \n",
    "    plt.tight_layout()\n",
    "    plt.show()\n",
    "    \n",
    "    # Print summary statistics\n",
    "    print(\"\\nMessage length statistics by class:\")\n",
    "    print(df.groupby('label')['length'].describe())\n",
    "\n",
    "analyze_message_lengths(df)"
   ]
  },
  {
   "cell_type": "markdown",
   "metadata": {},
   "source": [
    "## Text Preprocessing"
   ]
  },
  {
   "cell_type": "code",
   "execution_count": 7,
   "metadata": {},
   "outputs": [
    {
     "name": "stdout",
     "output_type": "stream",
     "text": [
      "Example preprocessing:\n",
      "Original: Go until jurong point, crazy.. Available only in bugis n great world la e buffet... Cine there got amore wat...\n",
      "Processed: ['go', 'jurong', 'point', 'crazy', 'available', 'bugis', 'n', 'great', 'world', 'la', 'e', 'buffet', 'cine', 'got', 'amore', 'wat']\n"
     ]
    }
   ],
   "source": [
    "class TextPreprocessor:\n",
    "    \"\"\"Text preprocessing pipeline for SMS messages.\"\"\"\n",
    "    \n",
    "    def __init__(self):\n",
    "        self.stop_words = set(stopwords.words('english'))\n",
    "        self.lemmatizer = WordNetLemmatizer()\n",
    "    \n",
    "    def preprocess(self, text):\n",
    "        \"\"\"Preprocess a single text message.\n",
    "        \n",
    "        Args:\n",
    "            text (str): Input text message\n",
    "            \n",
    "        Returns:\n",
    "            list: Preprocessed tokens\n",
    "        \"\"\"\n",
    "        # Tokenization\n",
    "        tokens = word_tokenize(text)\n",
    "        \n",
    "        # Convert to lowercase and remove non-alphabetic tokens\n",
    "        tokens = [token.lower() for token in tokens if token.isalpha()]\n",
    "        \n",
    "        # Remove stopwords\n",
    "        tokens = [token for token in tokens if token not in self.stop_words]\n",
    "        \n",
    "        # Lemmatization\n",
    "        tokens = [self.lemmatizer.lemmatize(token) for token in tokens]\n",
    "        \n",
    "        return tokens\n",
    "\n",
    "# Initialize preprocessor and process messages\n",
    "preprocessor = TextPreprocessor()\n",
    "df['processed_message'] = df['message'].apply(preprocessor.preprocess)\n",
    "\n",
    "# Add token count feature\n",
    "df['token_count'] = df['processed_message'].apply(len)\n",
    "\n",
    "# Display example\n",
    "print(\"Example preprocessing:\")\n",
    "example_idx = 0\n",
    "print(f\"Original: {df['message'].iloc[example_idx]}\")\n",
    "print(f\"Processed: {df['processed_message'].iloc[example_idx]}\")"
   ]
  },
  {
   "cell_type": "markdown",
   "metadata": {},
   "source": [
    "## Data Splitting"
   ]
  },
  {
   "cell_type": "code",
   "execution_count": 8,
   "metadata": {},
   "outputs": [
    {
     "name": "stdout",
     "output_type": "stream",
     "text": [
      "Split sizes: train=3900, val=835, test=837\n"
     ]
    }
   ],
   "source": [
    "def prepare_splits(df, train_size=0.7, val_size=0.15, random_state=RANDOM_SEED):\n",
    "    \"\"\"Split data into training, validation, and test sets.\n",
    "    \n",
    "    Args:\n",
    "        df (pd.DataFrame): Input DataFrame\n",
    "        train_size (float): Proportion for training set\n",
    "        val_size (float): Proportion for validation set\n",
    "        random_state (int): Random seed for reproducibility\n",
    "        \n",
    "    Returns:\n",
    "        tuple: (train_df, val_df, test_df)\n",
    "    \"\"\"\n",
    "    # First split: separate training set\n",
    "    train_df, temp_df = train_test_split(\n",
    "        df,\n",
    "        train_size=train_size,\n",
    "        stratify=df['label'],\n",
    "        random_state=random_state\n",
    "    )\n",
    "    \n",
    "    # Second split: separate validation and test sets\n",
    "    val_df, test_df = train_test_split(\n",
    "        temp_df,\n",
    "        train_size=val_size/(1-train_size),\n",
    "        stratify=temp_df['label'],\n",
    "        random_state=random_state\n",
    "    )\n",
    "    \n",
    "    print(f\"Split sizes: train={len(train_df)}, val={len(val_df)}, test={len(test_df)}\")\n",
    "    return train_df, val_df, test_df\n",
    "\n",
    "# Perform splitting\n",
    "train_df, val_df, test_df = prepare_splits(df)"
   ]
  },
  {
   "cell_type": "markdown",
   "metadata": {},
   "source": [
    "## Save Processed Datasets"
   ]
  },
  {
   "cell_type": "code",
   "execution_count": 9,
   "metadata": {},
   "outputs": [
    {
     "name": "stdout",
     "output_type": "stream",
     "text": [
      "Saved train dataset to processed_data/train.csv\n",
      "Saved validation dataset to processed_data/validation.csv\n",
      "Saved test dataset to processed_data/test.csv\n"
     ]
    }
   ],
   "source": [
    "def save_datasets(train_df, val_df, test_df, output_dir='processed_data'):\n",
    "    \"\"\"Save processed datasets to CSV files.\n",
    "    \n",
    "    Args:\n",
    "        train_df (pd.DataFrame): Training data\n",
    "        val_df (pd.DataFrame): Validation data\n",
    "        test_df (pd.DataFrame): Test data\n",
    "        output_dir (str): Output directory\n",
    "    \"\"\"\n",
    "    import os\n",
    "    \n",
    "    # Create output directory if it doesn't exist\n",
    "    os.makedirs(output_dir, exist_ok=True)\n",
    "    \n",
    "    # Save datasets\n",
    "    for name, dataset in [('train', train_df), ('validation', val_df), ('test', test_df)]:\n",
    "        filepath = os.path.join(output_dir, f'{name}.csv')\n",
    "        dataset.to_csv(filepath, index=False)\n",
    "        print(f\"Saved {name} dataset to {filepath}\")\n",
    "\n",
    "save_datasets(train_df, val_df, test_df)"
   ]
  }
 ],
 "metadata": {
  "kernelspec": {
   "display_name": ".venv",
   "language": "python",
   "name": "python3"
  },
  "language_info": {
   "codemirror_mode": {
    "name": "ipython",
    "version": 3
   },
   "file_extension": ".py",
   "mimetype": "text/x-python",
   "name": "python",
   "nbconvert_exporter": "python",
   "pygments_lexer": "ipython3",
   "version": "3.12.3"
  }
 },
 "nbformat": 4,
 "nbformat_minor": 4
}
