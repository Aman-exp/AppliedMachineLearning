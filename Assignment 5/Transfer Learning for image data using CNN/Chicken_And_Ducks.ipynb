{
  "nbformat": 4,
  "nbformat_minor": 0,
  "metadata": {
    "colab": {
      "provenance": [],
      "gpuType": "T4"
    },
    "kernelspec": {
      "name": "python3",
      "display_name": "Python 3"
    },
    "language_info": {
      "name": "python"
    },
    "accelerator": "GPU"
  },
  "cells": [
    {
      "cell_type": "markdown",
      "source": [
        "# Transfer Learning for Image Classification: Chicken vs Duck"
      ],
      "metadata": {
        "id": "ECjeNtwNuc3s"
      }
    },
    {
      "cell_type": "markdown",
      "source": [
        "## 1. Loading the Dataset"
      ],
      "metadata": {
        "id": "Rv7YFujdu-_v"
      }
    },
    {
      "cell_type": "code",
      "source": [
        "!unzip -q /content/data.zip"
      ],
      "metadata": {
        "id": "Yo6wXsfrvCBP"
      },
      "execution_count": 1,
      "outputs": []
    },
    {
      "cell_type": "markdown",
      "source": [
        "## 2. Importing Libraries"
      ],
      "metadata": {
        "id": "WdhszDiZvHP3"
      }
    },
    {
      "cell_type": "code",
      "source": [
        "# Standard Libraries\n",
        "import os\n",
        "import sys\n",
        "import time\n",
        "import copy\n",
        "import glob\n",
        "import random\n",
        "import warnings\n",
        "from tempfile import TemporaryDirectory\n",
        "\n",
        "# Third-party Libraries\n",
        "import numpy as np\n",
        "import pandas as pd\n",
        "import matplotlib.pyplot as plt\n",
        "import matplotlib.image as mpimg\n",
        "import seaborn as sns\n",
        "from sklearn.metrics import classification_report\n",
        "from PIL import Image\n",
        "\n",
        "# PyTorch Libraries\n",
        "import torch\n",
        "import torch.optim as optim\n",
        "import torch.nn as nn\n",
        "import torch.nn.functional as F\n",
        "from torch.utils.data import DataLoader, Dataset\n",
        "from torchvision.models import resnet18, ResNet18_Weights\n",
        "from torchvision import transforms\n",
        "from torchvision import models\n",
        "\n",
        "# Suppress warnings\n",
        "warnings.filterwarnings('ignore')"
      ],
      "metadata": {
        "id": "--H5bMErvDQ3"
      },
      "execution_count": 2,
      "outputs": []
    },
    {
      "cell_type": "markdown",
      "source": [
        "## 3. Data Preparation"
      ],
      "metadata": {
        "id": "GvboIZo8vLq9"
      }
    },
    {
      "cell_type": "markdown",
      "source": [
        "### 3.1 Define Dataset Paths"
      ],
      "metadata": {
        "id": "qaXPeebCvNur"
      }
    },
    {
      "cell_type": "code",
      "source": [
        "# Define paths to the image directories\n",
        "CHICKEN_IMAGES_PATH = \"/content/data/chicken-images/\"\n",
        "DUCK_IMAGES_PATH = \"/content/data/duck-images/\"\n",
        "\n",
        "# Get lists of image directories\n",
        "chicken_images_dir = glob.glob(f\"{CHICKEN_IMAGES_PATH}/train/*\")\n",
        "duck_images_dir = glob.glob(f\"{DUCK_IMAGES_PATH}/train/*\")"
      ],
      "metadata": {
        "id": "HzIRGmFJvJPU"
      },
      "execution_count": 3,
      "outputs": []
    },
    {
      "cell_type": "markdown",
      "source": [
        "### 3.2 Create Dataset Annotations"
      ],
      "metadata": {
        "id": "VvYof5crvRPs"
      }
    },
    {
      "cell_type": "code",
      "source": [
        "def annotations(paths: list[str]):\n",
        "    \"\"\"\n",
        "    Creates DataFrames containing image paths and class labels for train, validation, and test sets.\n",
        "\n",
        "    Args:\n",
        "        paths: List of paths to image directories\n",
        "\n",
        "    Returns:\n",
        "        Three DataFrames (train, val, test) with columns 'path' and 'class'\n",
        "    \"\"\"\n",
        "    def get_df(split):\n",
        "        data = []\n",
        "        for p in paths:\n",
        "            folder = os.path.join(p, split)\n",
        "            label = p.split(\"/\")[3]  # Extract class name from path\n",
        "            files = [f\"{p}/{split}/{f}\" for f in os.listdir(folder)]\n",
        "            data.extend([(f, label) for f in files])\n",
        "        return pd.DataFrame(data, columns=[\"path\", \"class\"]).reset_index(drop=True)\n",
        "\n",
        "    return get_df(\"train\"), get_df(\"val\"), get_df(\"test\")"
      ],
      "metadata": {
        "id": "oLH5O_l-vPu8"
      },
      "execution_count": 4,
      "outputs": []
    },
    {
      "cell_type": "code",
      "source": [
        "# Generate annotations for train, validation, and test sets\n",
        "train, val, test = annotations([CHICKEN_IMAGES_PATH, DUCK_IMAGES_PATH])"
      ],
      "metadata": {
        "id": "t8q-fNiMvUVP"
      },
      "execution_count": 5,
      "outputs": []
    },
    {
      "cell_type": "markdown",
      "source": [
        "### 3.3 Analyze Dataset Distribution"
      ],
      "metadata": {
        "id": "xRA_Id3BvZVJ"
      }
    },
    {
      "cell_type": "code",
      "source": [
        "# Get class counts for each dataset\n",
        "train_counts = train['class'].value_counts()\n",
        "val_counts = val['class'].value_counts()\n",
        "test_counts = test['class'].value_counts()\n",
        "\n",
        "# Create DataFrame for visualization\n",
        "df = pd.DataFrame({\n",
        "    'Train': train_counts,\n",
        "    'Validation': val_counts,\n",
        "    'Test': test_counts\n",
        "}).fillna(0).astype(int)\n",
        "\n",
        "df = df.T\n",
        "\n",
        "# Plot class distribution\n",
        "plt.figure(figsize=(10, 6))\n",
        "df.plot(kind='bar', color=sns.color_palette('Set1'))\n",
        "\n",
        "plt.title('Class Distribution Across Train, Validation, and Test Sets')\n",
        "plt.xlabel('Dataset')\n",
        "plt.ylabel('Count')\n",
        "plt.xticks(rotation=0)\n",
        "plt.legend(title='Class')\n",
        "plt.grid(axis='y', linestyle='--', alpha=0.7)\n",
        "plt.tight_layout()\n",
        "plt.show()"
      ],
      "metadata": {
        "colab": {
          "base_uri": "https://localhost:8080/",
          "height": 504
        },
        "id": "ZByMB-jxvWIZ",
        "outputId": "d24fc597-a669-4f94-b83f-106591e5f6fd"
      },
      "execution_count": 7,
      "outputs": [
        {
          "output_type": "display_data",
          "data": {
            "text/plain": [
              "<Figure size 1000x600 with 0 Axes>"
            ]
          },
          "metadata": {}
        },
        {
          "output_type": "display_data",
          "data": {
            "text/plain": [
              "<Figure size 640x480 with 1 Axes>"
            ],
            "image/png": "[encoded data removed]"
          },
          "metadata": {}
        }
      ]
    },
    {
      "cell_type": "markdown",
      "source": [
        "## 4. Custom Dataset and Transformations"
      ],
      "metadata": {
        "id": "1eLzQrJLveeC"
      }
    },
    {
      "cell_type": "markdown",
      "source": [
        "### 4.1 Define Custom Dataset Class"
      ],
      "metadata": {
        "id": "IqhacLIKvglb"
      }
    },
    {
      "cell_type": "code",
      "source": [
        "class ChickenOrDuck(Dataset):\n",
        "    \"\"\"\n",
        "    Custom Dataset class for Chicken vs Duck classification.\n",
        "\n",
        "    Args:\n",
        "        annotations_file: DataFrame containing image paths and class labels\n",
        "        transforms: Transformations to apply to images\n",
        "    \"\"\"\n",
        "    def __init__(self, annotations_file, transforms=None):\n",
        "        self.annotations_file = annotations_file\n",
        "        self.transforms = transforms or transforms.Compose([transforms.ToTensor()])\n",
        "\n",
        "    def __getitem__(self, idx):\n",
        "        img_path, label = self.annotations_file.loc[idx, [\"path\", \"class\"]]\n",
        "\n",
        "        # Convert class label to numeric: 1 for chicken, 0 for duck\n",
        "        label = 1 if label == \"chicken-images\" else 0\n",
        "\n",
        "        # Load and preprocess the image\n",
        "        image = Image.open(img_path).convert(\"RGB\")\n",
        "        image = image.resize((256, 256))  # Resize to fixed size\n",
        "        image = self.transforms(image)  # Apply transformations\n",
        "\n",
        "        return image, label\n",
        "\n",
        "    def __len__(self):\n",
        "        return len(self.annotations_file)"
      ],
      "metadata": {
        "id": "-RleKeF5vY3q"
      },
      "execution_count": 8,
      "outputs": []
    },
    {
      "cell_type": "markdown",
      "source": [
        "### 4.2 Define Image Transformations"
      ],
      "metadata": {
        "id": "zBXCLCXyvlMx"
      }
    },
    {
      "cell_type": "code",
      "source": [
        "# ImageNet mean and std values for normalization\n",
        "mean = [0.485, 0.456, 0.406]\n",
        "std = [0.229, 0.224, 0.225]\n",
        "\n",
        "def get_image_transforms(phase: str):\n",
        "    \"\"\"\n",
        "    Creates image transformations for training or validation/testing phases.\n",
        "\n",
        "    Args:\n",
        "        phase: Either 'train' or 'val'\n",
        "\n",
        "    Returns:\n",
        "        A composition of transformations\n",
        "    \"\"\"\n",
        "    if phase == 'train':\n",
        "        return transforms.Compose([\n",
        "            transforms.RandomHorizontalFlip(),  # Data augmentation\n",
        "            transforms.RandomVerticalFlip(),    # Data augmentation\n",
        "            transforms.ColorJitter(brightness=0.2, contrast=0.2),  # Color augmentation\n",
        "            transforms.ToTensor(),  # Convert to tensor\n",
        "            transforms.Normalize(mean=mean, std=std),  # Normalize using ImageNet stats\n",
        "        ])\n",
        "    elif phase == 'val':\n",
        "        return transforms.Compose([\n",
        "            transforms.ToTensor(),  # Convert to tensor\n",
        "            transforms.Normalize(mean=mean, std=std),  # Normalize using ImageNet stats\n",
        "        ])\n",
        "    else:\n",
        "        raise ValueError(\"Invalid phase: should be 'train' or 'val'\")\n",
        "\n",
        "# Create transformations for training and validation/test\n",
        "train_transform = get_image_transforms('train')\n",
        "val_transform = get_image_transforms('val')"
      ],
      "metadata": {
        "id": "9WspERFmvik5"
      },
      "execution_count": 9,
      "outputs": []
    },
    {
      "cell_type": "markdown",
      "source": [
        "### 4.3 Create Dataset Instances"
      ],
      "metadata": {
        "id": "V2QeOfn_vqf1"
      }
    },
    {
      "cell_type": "code",
      "source": [
        "# Create dataset instances\n",
        "train_dataset = ChickenOrDuck(annotations_file=train, transforms=train_transform)\n",
        "val_dataset = ChickenOrDuck(annotations_file=val, transforms=val_transform)\n",
        "test_dataset = ChickenOrDuck(annotations_file=test, transforms=val_transform)"
      ],
      "metadata": {
        "id": "5YQ1Ynm5vnjY"
      },
      "execution_count": 10,
      "outputs": []
    },
    {
      "cell_type": "markdown",
      "source": [
        "### 4.4 Configure DataLoaders"
      ],
      "metadata": {
        "id": "jsGPjP-avvlm"
      }
    },
    {
      "cell_type": "code",
      "source": [
        "# Set batch size and device (GPU if available, otherwise CPU)\n",
        "BATCH_SIZE = 16\n",
        "device = torch.device(\"cuda\" if torch.cuda.is_available() else \"cpu\")"
      ],
      "metadata": {
        "id": "bhJ9-uRhvskx"
      },
      "execution_count": 11,
      "outputs": []
    },
    {
      "cell_type": "code",
      "source": [
        "# Create DataLoaders for batch processing\n",
        "train_dataloader = DataLoader(train_dataset, batch_size=BATCH_SIZE, shuffle=True)\n",
        "val_dataloader = DataLoader(val_dataset, batch_size=BATCH_SIZE, shuffle=False)\n",
        "test_dataloader = DataLoader(test_dataset, batch_size=BATCH_SIZE, shuffle=False)"
      ],
      "metadata": {
        "id": "3fTH8Kk2vxey"
      },
      "execution_count": 12,
      "outputs": []
    },
    {
      "cell_type": "code",
      "source": [
        "# Verify the size of each dataloader\n",
        "print(f\"Number of batches - Train: {len(train_dataloader)}, Val: {len(val_dataloader)}, Test: {len(test_dataloader)}\")"
      ],
      "metadata": {
        "colab": {
          "base_uri": "https://localhost:8080/"
        },
        "id": "jav_CLE2vztn",
        "outputId": "2c115eb3-71b5-4093-9bb3-52b4f18e77c8"
      },
      "execution_count": 13,
      "outputs": [
        {
          "output_type": "stream",
          "name": "stdout",
          "text": [
            "Number of batches - Train: 36, Val: 7, Test: 22\n"
          ]
        }
      ]
    },
    {
      "cell_type": "code",
      "source": [
        "# Verify the size of each dataset\n",
        "print(f\"Number of images - Train: {len(train_dataset)}, Val: {len(val_dataset)}, Test: {len(test_dataset)}\")"
      ],
      "metadata": {
        "colab": {
          "base_uri": "https://localhost:8080/"
        },
        "id": "cUa1LeY-v1kV",
        "outputId": "8bd216a7-516f-4119-ef01-174ac7741b27"
      },
      "execution_count": 14,
      "outputs": [
        {
          "output_type": "stream",
          "name": "stdout",
          "text": [
            "Number of images - Train: 573, Val: 112, Test: 352\n"
          ]
        }
      ]
    },
    {
      "cell_type": "markdown",
      "source": [
        "## 5. Model Training"
      ],
      "metadata": {
        "id": "CriJrvOgv5X0"
      }
    },
    {
      "cell_type": "markdown",
      "source": [
        "### 5.1 Define Training Function"
      ],
      "metadata": {
        "id": "5kZeMiT5v7M0"
      }
    },
    {
      "cell_type": "code",
      "source": [
        "def train_model(model, criterion, optimizer, scheduler, num_epochs=15):\n",
        "    \"\"\"\n",
        "    Train and validate the model.\n",
        "\n",
        "    Args:\n",
        "        model: The neural network model\n",
        "        criterion: Loss function\n",
        "        optimizer: Optimization algorithm\n",
        "        scheduler: Learning rate scheduler\n",
        "        num_epochs: Number of training epochs\n",
        "\n",
        "    Returns:\n",
        "        Trained model with best validation accuracy\n",
        "    \"\"\"\n",
        "    since = time.time()\n",
        "    best_acc = 0.0\n",
        "\n",
        "    # Track metrics for plotting\n",
        "    train_losses = []\n",
        "    train_accs = []\n",
        "    val_losses = []\n",
        "    val_accs = []\n",
        "\n",
        "    for epoch in range(num_epochs):\n",
        "        print(f'Epoch {epoch + 1}/{num_epochs}')\n",
        "        print('-' * 50)\n",
        "\n",
        "        # Each epoch has a training and validation phase\n",
        "        for phase in ['train', 'val']:\n",
        "            # Set model to training mode or evaluation mode\n",
        "            model.train() if phase == 'train' else model.eval()\n",
        "\n",
        "            running_loss = 0.0\n",
        "            running_corrects = 0\n",
        "\n",
        "            # Use appropriate dataloader and dataset size\n",
        "            dataloader = train_dataloader if phase == 'train' else val_dataloader\n",
        "            dataset_size = len(train_dataset) if phase == 'train' else len(val_dataset)\n",
        "\n",
        "            # Iterate over data batches\n",
        "            for inputs, labels in dataloader:\n",
        "                inputs, labels = inputs.to(device), labels.to(device)\n",
        "\n",
        "                # Zero the parameter gradients\n",
        "                optimizer.zero_grad()\n",
        "\n",
        "                # Forward pass - track history only in train phase\n",
        "                with torch.set_grad_enabled(phase == 'train'):\n",
        "                    outputs = model(inputs)\n",
        "                    _, preds = torch.max(outputs, 1)\n",
        "                    loss = criterion(outputs, labels)\n",
        "\n",
        "                    # Backward pass + optimize only if in training phase\n",
        "                    if phase == 'train':\n",
        "                        loss.backward()\n",
        "                        optimizer.step()\n",
        "\n",
        "                # Update statistics\n",
        "                running_loss += loss.item() * inputs.size(0)\n",
        "                running_corrects += torch.sum(preds == labels.data)\n",
        "\n",
        "            # Calculate epoch metrics\n",
        "            epoch_loss = running_loss / dataset_size\n",
        "            epoch_acc = running_corrects.double().item() / dataset_size\n",
        "\n",
        "            # Store metrics for plotting\n",
        "            if phase == 'train':\n",
        "                train_losses.append(epoch_loss)\n",
        "                train_accs.append(epoch_acc)\n",
        "            else:\n",
        "                val_losses.append(epoch_loss)\n",
        "                val_accs.append(epoch_acc)\n",
        "\n",
        "            print(f'{phase.capitalize()} Loss: {epoch_loss:.4f} Acc: {epoch_acc:.4f}')\n",
        "\n",
        "            # Step the scheduler in training phase\n",
        "            if phase == 'train':\n",
        "                scheduler.step()\n",
        "\n",
        "            # Save the best model based on validation accuracy\n",
        "            if phase == 'val' and epoch_acc > best_acc:\n",
        "                best_acc = epoch_acc\n",
        "                torch.save(model.state_dict(), 'best_model.pt')\n",
        "                print(f\"Saved new best model with validation accuracy: {best_acc:.4f}\")\n",
        "\n",
        "        print() # Empty line between epochs\n",
        "\n",
        "    # Print training time statistics\n",
        "    time_elapsed = time.time() - since\n",
        "    print(f'Training complete in {time_elapsed // 60:.0f}m {time_elapsed % 60:.0f}s')\n",
        "    print(f'Best val Acc: {best_acc:.4f}')\n",
        "\n",
        "    # Plot training and validation metrics\n",
        "    plt.figure(figsize=(12, 5))\n",
        "\n",
        "    plt.subplot(1, 2, 1)\n",
        "    plt.plot(range(1, num_epochs + 1), train_losses, 'b-', label='Training Loss')\n",
        "    plt.plot(range(1, num_epochs + 1), val_losses, 'r-', label='Validation Loss')\n",
        "    plt.title('Training and Validation Loss')\n",
        "    plt.xlabel('Epochs')\n",
        "    plt.ylabel('Loss')\n",
        "    plt.legend()\n",
        "\n",
        "    plt.subplot(1, 2, 2)\n",
        "    plt.plot(range(1, num_epochs + 1), train_accs, 'b-', label='Training Accuracy')\n",
        "    plt.plot(range(1, num_epochs + 1), val_accs, 'r-', label='Validation Accuracy')\n",
        "    plt.title('Training and Validation Accuracy')\n",
        "    plt.xlabel('Epochs')\n",
        "    plt.ylabel('Accuracy')\n",
        "    plt.legend()\n",
        "\n",
        "    plt.tight_layout()\n",
        "    plt.show()\n",
        "\n",
        "    # Load the best model weights\n",
        "    model.load_state_dict(torch.load('best_model.pt'))\n",
        "    return model"
      ],
      "metadata": {
        "id": "UNjFY50sv3ic"
      },
      "execution_count": 15,
      "outputs": []
    },
    {
      "cell_type": "markdown",
      "source": [
        "### 5.2 Initialize and Configure Model"
      ],
      "metadata": {
        "id": "8_XHs21Hv_88"
      }
    },
    {
      "cell_type": "code",
      "source": [
        "def initialize_model():\n",
        "    \"\"\"\n",
        "    Initialize a pre-trained ResNet18 model for transfer learning.\n",
        "\n",
        "    Returns:\n",
        "        model: Configured ResNet18 model\n",
        "        criterion: Loss function\n",
        "        optimizer: Optimization algorithm\n",
        "        scheduler: Learning rate scheduler\n",
        "    \"\"\"\n",
        "    # Initialize ResNet18 model with pre-trained weights\n",
        "    model = models.resnet18(weights='IMAGENET1K_V1')\n",
        "\n",
        "    # Print model structure\n",
        "    print(\"Using ResNet18 architecture with pre-trained ImageNet weights\")\n",
        "\n",
        "    # Replace the final fully connected layer for binary classification\n",
        "    num_ftrs = model.fc.in_features\n",
        "    model.fc = nn.Linear(num_ftrs, 2)  # 2 classes: chicken and duck\n",
        "\n",
        "    # Move model to the specified device\n",
        "    model = model.to(device)\n",
        "    print(f\"Model moved to {device}\")\n",
        "\n",
        "    # Define loss function, optimizer, and learning rate scheduler\n",
        "    criterion = nn.CrossEntropyLoss()\n",
        "    optimizer = optim.SGD(model.parameters(), lr=0.001, momentum=0.9)\n",
        "    scheduler = optim.lr_scheduler.StepLR(optimizer, step_size=7, gamma=0.1)\n",
        "\n",
        "    return model, criterion, optimizer, scheduler\n",
        "\n",
        "# Initialize model and training components\n",
        "model_ft, criterion, optimizer_ft, exp_lr_scheduler = initialize_model()"
      ],
      "metadata": {
        "colab": {
          "base_uri": "https://localhost:8080/"
        },
        "id": "WLohinh4v93I",
        "outputId": "cc2703b7-63a3-4cb7-c8fe-c9d7d2f85014"
      },
      "execution_count": 16,
      "outputs": [
        {
          "output_type": "stream",
          "name": "stderr",
          "text": [
            "Downloading: \"https://download.pytorch.org/models/resnet18-f37072fd.pth\" to /root/.cache/torch/hub/checkpoints/resnet18-f37072fd.pth\n",
            "100%|██████████| 44.7M/44.7M [00:00<00:00, 56.3MB/s]\n"
          ]
        },
        {
          "output_type": "stream",
          "name": "stdout",
          "text": [
            "Using ResNet18 architecture with pre-trained ImageNet weights\n",
            "Model moved to cuda\n"
          ]
        }
      ]
    },
    {
      "cell_type": "markdown",
      "source": [
        "### 5.3 Train the Model"
      ],
      "metadata": {
        "id": "DjKTIDh2wFMY"
      }
    },
    {
      "cell_type": "code",
      "source": [
        "# Set random seeds for reproducibility\n",
        "def set_seed(seed=42):\n",
        "    random.seed(seed)\n",
        "    np.random.seed(seed)\n",
        "    torch.manual_seed(seed)\n",
        "    if torch.cuda.is_available():\n",
        "        torch.cuda.manual_seed(seed)\n",
        "        torch.cuda.manual_seed_all(seed)\n",
        "        torch.backends.cudnn.deterministic = True\n",
        "        torch.backends.cudnn.benchmark = False\n",
        "\n",
        "set_seed()\n",
        "\n",
        "# Train the model\n",
        "print(\"Starting model training...\")\n",
        "trained_model = train_model(model_ft, criterion, optimizer_ft, exp_lr_scheduler, num_epochs=15)"
      ],
      "metadata": {
        "colab": {
          "base_uri": "https://localhost:8080/",
          "height": 1000
        },
        "id": "8oQCVEjBwCF8",
        "outputId": "d9049674-8cd7-46f3-fef9-fb43d2098366"
      },
      "execution_count": 17,
      "outputs": [
        {
          "output_type": "stream",
          "name": "stdout",
          "text": [
            "Starting model training...\n",
            "Epoch 1/15\n",
            "--------------------------------------------------\n",
            "Train Loss: 0.4465 Acc: 0.7731\n",
            "Val Loss: 0.2808 Acc: 0.8571\n",
            "Saved new best model with validation accuracy: 0.8571\n",
            "\n",
            "Epoch 2/15\n",
            "--------------------------------------------------\n",
            "Train Loss: 0.2246 Acc: 0.9040\n",
            "Val Loss: 0.2228 Acc: 0.9107\n",
            "Saved new best model with validation accuracy: 0.9107\n",
            "\n",
            "Epoch 3/15\n",
            "--------------------------------------------------\n",
            "Train Loss: 0.1723 Acc: 0.9407\n",
            "Val Loss: 0.1937 Acc: 0.9107\n",
            "\n",
            "Epoch 4/15\n",
            "--------------------------------------------------\n",
            "Train Loss: 0.1045 Acc: 0.9686\n",
            "Val Loss: 0.1918 Acc: 0.9375\n",
            "Saved new best model with validation accuracy: 0.9375\n",
            "\n",
            "Epoch 5/15\n",
            "--------------------------------------------------\n",
            "Train Loss: 0.0727 Acc: 0.9808\n",
            "Val Loss: 0.2067 Acc: 0.9018\n",
            "\n",
            "Epoch 6/15\n",
            "--------------------------------------------------\n",
            "Train Loss: 0.0944 Acc: 0.9686\n",
            "Val Loss: 0.1816 Acc: 0.9018\n",
            "\n",
            "Epoch 7/15\n",
            "--------------------------------------------------\n",
            "Train Loss: 0.0778 Acc: 0.9756\n",
            "Val Loss: 0.1930 Acc: 0.9107\n",
            "\n",
            "Epoch 8/15\n",
            "--------------------------------------------------\n",
            "Train Loss: 0.0857 Acc: 0.9616\n",
            "Val Loss: 0.2080 Acc: 0.9018\n",
            "\n",
            "Epoch 9/15\n",
            "--------------------------------------------------\n",
            "Train Loss: 0.0562 Acc: 0.9878\n",
            "Val Loss: 0.1871 Acc: 0.9107\n",
            "\n",
            "Epoch 10/15\n",
            "--------------------------------------------------\n",
            "Train Loss: 0.0358 Acc: 0.9878\n",
            "Val Loss: 0.1686 Acc: 0.9196\n",
            "\n",
            "Epoch 11/15\n",
            "--------------------------------------------------\n",
            "Train Loss: 0.0404 Acc: 0.9913\n",
            "Val Loss: 0.1726 Acc: 0.9196\n",
            "\n",
            "Epoch 12/15\n",
            "--------------------------------------------------\n",
            "Train Loss: 0.0334 Acc: 0.9930\n",
            "Val Loss: 0.1675 Acc: 0.9286\n",
            "\n",
            "Epoch 13/15\n",
            "--------------------------------------------------\n",
            "Train Loss: 0.0573 Acc: 0.9791\n",
            "Val Loss: 0.1877 Acc: 0.9286\n",
            "\n",
            "Epoch 14/15\n",
            "--------------------------------------------------\n",
            "Train Loss: 0.0381 Acc: 0.9930\n",
            "Val Loss: 0.1619 Acc: 0.9286\n",
            "\n",
            "Epoch 15/15\n",
            "--------------------------------------------------\n",
            "Train Loss: 0.0423 Acc: 0.9895\n",
            "Val Loss: 0.1735 Acc: 0.9286\n",
            "\n",
            "Training complete in 1m 30s\n",
            "Best val Acc: 0.9375\n"
          ]
        },
        {
          "output_type": "display_data",
          "data": {
            "text/plain": [
              "<Figure size 1200x500 with 2 Axes>"
            ],
            "image/png": "[encoded data removed]"
          },
          "metadata": {}
        }
      ]
    },
    {
      "cell_type": "markdown",
      "source": [
        "## 6. Model Evaluation"
      ],
      "metadata": {
        "id": "CMx7qctjwJ4p"
      }
    },
    {
      "cell_type": "markdown",
      "source": [
        "### 6.1 Classification Report"
      ],
      "metadata": {
        "id": "J0zZxKDCwPEX"
      }
    },
    {
      "cell_type": "code",
      "source": [
        "def get_classification_report(model, dataloader, device, dataset_name=\"\"):\n",
        "    \"\"\"\n",
        "    Evaluate the model and generate a classification report.\n",
        "\n",
        "    Args:\n",
        "        model: Trained model\n",
        "        dataloader: DataLoader for the dataset to evaluate\n",
        "        device: Device to use for computation\n",
        "        dataset_name: Optional name of the dataset for reporting\n",
        "\n",
        "    Returns:\n",
        "        report: Classification report as a string\n",
        "    \"\"\"\n",
        "    print(f\"Evaluating model on {dataset_name} dataset...\")\n",
        "    model.eval()  # Set the model to evaluation mode\n",
        "\n",
        "    all_preds = []\n",
        "    all_labels = []\n",
        "    correct = 0\n",
        "    total = 0\n",
        "\n",
        "    # Disable gradient calculation for validation to save memory and computations\n",
        "    with torch.no_grad():\n",
        "        for inputs, labels in dataloader:\n",
        "            inputs, labels = inputs.to(device), labels.to(device)\n",
        "\n",
        "            # Get model predictions\n",
        "            outputs = model(inputs)\n",
        "            _, preds = torch.max(outputs, 1)\n",
        "\n",
        "            # Update accuracy metrics\n",
        "            total += labels.size(0)\n",
        "            correct += (preds == labels).sum().item()\n",
        "\n",
        "            # Collect all predictions and true labels\n",
        "            all_preds.extend(preds.cpu().numpy())\n",
        "            all_labels.extend(labels.cpu().numpy())\n",
        "\n",
        "    # Calculate overall accuracy\n",
        "    accuracy = 100 * correct / total\n",
        "    print(f\"Overall Accuracy: {accuracy:.2f}%\")\n",
        "\n",
        "    # Generate classification report with custom class names\n",
        "    report = classification_report(all_labels, all_preds, target_names=[\"Duck\", \"Chicken\"])\n",
        "\n",
        "    return report\n",
        "\n",
        "# Evaluate on validation set\n",
        "val_report = get_classification_report(trained_model, val_dataloader, device, \"validation\")\n",
        "print(\"Classification Report (Validation Set):\")\n",
        "print(val_report)\n",
        "\n",
        "# Evaluate on test set\n",
        "test_report = get_classification_report(trained_model, test_dataloader, device, \"test\")\n",
        "print(\"\\nClassification Report (Test Set):\")\n",
        "print(test_report)"
      ],
      "metadata": {
        "colab": {
          "base_uri": "https://localhost:8080/"
        },
        "id": "1o8cBYVdwHV2",
        "outputId": "9df62f23-a724-40cb-f911-054362e25c9a"
      },
      "execution_count": 18,
      "outputs": [
        {
          "output_type": "stream",
          "name": "stdout",
          "text": [
            "Evaluating model on validation dataset...\n",
            "Overall Accuracy: 93.75%\n",
            "Classification Report (Validation Set):\n",
            "              precision    recall  f1-score   support\n",
            "\n",
            "        Duck       0.91      0.98      0.94        60\n",
            "     Chicken       0.98      0.88      0.93        52\n",
            "\n",
            "    accuracy                           0.94       112\n",
            "   macro avg       0.94      0.93      0.94       112\n",
            "weighted avg       0.94      0.94      0.94       112\n",
            "\n",
            "Evaluating model on test dataset...\n",
            "Overall Accuracy: 96.31%\n",
            "\n",
            "Classification Report (Test Set):\n",
            "              precision    recall  f1-score   support\n",
            "\n",
            "        Duck       0.94      0.99      0.96       180\n",
            "     Chicken       0.99      0.94      0.96       172\n",
            "\n",
            "    accuracy                           0.96       352\n",
            "   macro avg       0.96      0.96      0.96       352\n",
            "weighted avg       0.96      0.96      0.96       352\n",
            "\n"
          ]
        }
      ]
    }
  ]
}