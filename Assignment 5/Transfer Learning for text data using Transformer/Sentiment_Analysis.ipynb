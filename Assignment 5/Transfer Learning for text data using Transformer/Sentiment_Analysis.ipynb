{
  "cells": [
    {
      "cell_type": "markdown",
      "metadata": {
        "id": "xRX4j5VTz24d"
      },
      "source": [
        "# Sentiment Analysis"
      ]
    },
    {
      "cell_type": "markdown",
      "metadata": {
        "id": "a2ce9842"
      },
      "source": [
        "# Dataset Download & Extraction"
      ]
    },
    {
      "cell_type": "code",
      "execution_count": 1,
      "metadata": {
        "colab": {
          "base_uri": "https://localhost:8080/"
        },
        "id": "ge4DI5UOy42j",
        "outputId": "d9fcc6b5-aab6-4b5d-9608-4609a7255932"
      },
      "outputs": [
        {
          "output_type": "stream",
          "name": "stdout",
          "text": [
            "  % Total    % Received % Xferd  Average Speed   Time    Time     Time  Current\n",
            "                                 Dload  Upload   Total   Spent    Left  Speed\n",
            "  0     0    0     0    0     0      0      0 --:--:-- --:--:-- --:--:--     0\n",
            "100 54.4M  100 54.4M    0     0  54.5M      0 --:--:-- --:--:-- --:--:--  188M\n"
          ]
        }
      ],
      "source": [
        "!curl -L -o sentiment-analysis-dataset.zip https://www.kaggle.com/api/v1/datasets/download/abhi8923shriv/sentiment-analysis-dataset"
      ]
    },
    {
      "cell_type": "code",
      "execution_count": 2,
      "metadata": {
        "id": "l09C59Fe0pSj"
      },
      "outputs": [],
      "source": [
        "!unzip -q sentiment-analysis-dataset.zip"
      ]
    },
    {
      "cell_type": "markdown",
      "metadata": {
        "id": "fbd18bc3"
      },
      "source": [
        "## Data Preprocessing"
      ]
    },
    {
      "cell_type": "code",
      "execution_count": 3,
      "metadata": {
        "id": "fwjVgFQS0ryy"
      },
      "outputs": [],
      "source": [
        "import os\n",
        "import numpy as np\n",
        "import pandas as pd\n",
        "import random\n",
        "import torch\n",
        "import torch.nn as nn\n",
        "from sklearn.model_selection import train_test_split\n",
        "from sklearn.metrics import classification_report\n",
        "import transformers\n",
        "from transformers import AutoModel, BertTokenizerFast, logging\n",
        "from torch.utils.data import TensorDataset, DataLoader, RandomSampler, SequentialSampler\n",
        "\n",
        "from sklearn.utils.class_weight import compute_class_weight\n",
        "\n",
        "# optimizer from hugging face transformers\n",
        "from torch.optim import AdamW\n",
        "\n",
        "# specify GPU\n",
        "device = torch.device(\"cuda\" if torch.cuda.is_available() else \"cpu\")"
      ]
    },
    {
      "cell_type": "code",
      "execution_count": 4,
      "metadata": {
        "id": "f384115f"
      },
      "outputs": [],
      "source": [
        "def set_seed(seed=42):\n",
        "    random.seed(seed)\n",
        "    np.random.seed(seed)\n",
        "    torch.manual_seed(seed)\n",
        "    if torch.cuda.is_available():\n",
        "        torch.cuda.manual_seed_all(seed)\n",
        "\n",
        "set_seed(42)"
      ]
    },
    {
      "cell_type": "code",
      "execution_count": 5,
      "metadata": {
        "id": "XV-LYmRJ01ry"
      },
      "outputs": [],
      "source": [
        "train_df = pd.read_csv(\"train.csv\", encoding='latin1')\n",
        "test_df = pd.read_csv(\"test.csv\", encoding='latin1')"
      ]
    },
    {
      "cell_type": "markdown",
      "metadata": {
        "id": "Ofe47kQ01CnY"
      },
      "source": [
        "## Unique Sentiments"
      ]
    },
    {
      "cell_type": "code",
      "execution_count": 6,
      "metadata": {
        "colab": {
          "base_uri": "https://localhost:8080/"
        },
        "id": "brrYOF1j09Od",
        "outputId": "a047fced-97c1-48d5-85b8-a19ff9d9c332"
      },
      "outputs": [
        {
          "output_type": "execute_result",
          "data": {
            "text/plain": [
              "array(['neutral', 'positive', 'negative'], dtype=object)"
            ]
          },
          "metadata": {},
          "execution_count": 6
        }
      ],
      "source": [
        "test_df = test_df.dropna(subset=['sentiment'])\n",
        "test_df['sentiment'].unique()"
      ]
    },
    {
      "cell_type": "markdown",
      "metadata": {
        "id": "e2b8e80b"
      },
      "source": [
        "## Tokenization & Input Formatting"
      ]
    },
    {
      "cell_type": "code",
      "execution_count": 7,
      "metadata": {
        "id": "-n93yX7P1OB6"
      },
      "outputs": [],
      "source": [
        "# Create a mapping for sentiment labels\n",
        "sentiment_mapping = {\n",
        "    'positive': 0,\n",
        "    'negative': 1,\n",
        "    'neutral': 2\n",
        "}\n",
        "\n",
        "# Apply the mapping to create the 'label' column in train_df\n",
        "train_df['label'] = train_df['sentiment'].map(sentiment_mapping)\n",
        "\n",
        "# Apply the mapping to create the 'label' column in test_df\n",
        "test_df['label'] = test_df['sentiment'].map(sentiment_mapping)"
      ]
    },
    {
      "cell_type": "code",
      "execution_count": 8,
      "metadata": {
        "id": "84aq5bu-1Puy"
      },
      "outputs": [],
      "source": [
        "train_text, val_text, train_labels, val_labels = train_test_split(train_df['text'], train_df['label'],\n",
        "                                                                    random_state=1000,\n",
        "                                                                    test_size=0.3,\n",
        "                                                                    stratify=train_df['label'])\n",
        "\n",
        "\n",
        "test_text, test_labels = test_df['text'], test_df['label']"
      ]
    },
    {
      "cell_type": "code",
      "execution_count": 10,
      "metadata": {
        "colab": {
          "base_uri": "https://localhost:8080/"
        },
        "id": "wyU85Khh1V1A",
        "outputId": "3bf5fa50-cc6b-4cde-cd56-cf99eb755559"
      },
      "outputs": [
        {
          "output_type": "stream",
          "name": "stdout",
          "text": [
            "{'input_ids': [[101, 1045, 7078, 3866, 1996, 3185, 999, 1996, 3772, 2001, 10392, 1998, 1996, 2466, 2001, 7244, 1012, 102, 0], [101, 2054, 1037, 6659, 4031, 1012, 2009, 3631, 2044, 2074, 2048, 2420, 1012, 2561, 5949, 1997, 2769, 1012, 102]], 'token_type_ids': [[0, 0, 0, 0, 0, 0, 0, 0, 0, 0, 0, 0, 0, 0, 0, 0, 0, 0, 0], [0, 0, 0, 0, 0, 0, 0, 0, 0, 0, 0, 0, 0, 0, 0, 0, 0, 0, 0]], 'attention_mask': [[1, 1, 1, 1, 1, 1, 1, 1, 1, 1, 1, 1, 1, 1, 1, 1, 1, 1, 0], [1, 1, 1, 1, 1, 1, 1, 1, 1, 1, 1, 1, 1, 1, 1, 1, 1, 1, 1]]}\n"
          ]
        }
      ],
      "source": [
        "# Suppress Hugging Face and Transformers logs, warnings, and download bars\n",
        "os.environ[\"TRANSFORMERS_NO_ADVISORY_WARNINGS\"] = \"1\"\n",
        "os.environ[\"HF_HUB_DISABLE_PROGRESS_BARS\"] = \"1\"\n",
        "os.environ[\"TRANSFORMERS_VERBOSITY\"] = \"error\"\n",
        "os.environ[\"TOKENIZERS_PARALLELISM\"] = \"false\"\n",
        "\n",
        "# Load model and tokenizer\n",
        "bert = AutoModel.from_pretrained('bert-base-uncased')\n",
        "tokenizer = BertTokenizerFast.from_pretrained('bert-base-uncased')\n",
        "\n",
        "# Sample data\n",
        "text = [\n",
        "    \"I absolutely loved the movie! The acting was fantastic and the story was touching.\",\n",
        "    \"What a terrible product. It broke after just two days. Total waste of money.\"\n",
        "]\n",
        "\n",
        "# Encode text\n",
        "sent_id = tokenizer.batch_encode_plus(text, padding=True)\n",
        "\n",
        "# Output\n",
        "print(sent_id)"
      ]
    },
    {
      "cell_type": "code",
      "execution_count": 11,
      "metadata": {
        "colab": {
          "base_uri": "https://localhost:8080/",
          "height": 447
        },
        "id": "9tJfsktW1eRT",
        "outputId": "f4cbfb33-e8d6-4bbd-896c-71054a81d39a"
      },
      "outputs": [
        {
          "output_type": "execute_result",
          "data": {
            "text/plain": [
              "<Axes: >"
            ]
          },
          "metadata": {},
          "execution_count": 11
        },
        {
          "output_type": "display_data",
          "data": {
            "text/plain": [
              "<Figure size 640x480 with 1 Axes>"
            ],
            "image/png": "[encoded data removed]"
          },
          "metadata": {}
        }
      ],
      "source": [
        "seq_len = [len((str)(i).split()) for i in train_text]\n",
        "pd.Series(seq_len).hist(bins = 30)"
      ]
    },
    {
      "cell_type": "code",
      "execution_count": 12,
      "metadata": {
        "colab": {
          "base_uri": "https://localhost:8080/"
        },
        "id": "51SD1rBP71BM",
        "outputId": "27296df5-6013-4a9c-ca63-ac870f90f575"
      },
      "outputs": [
        {
          "output_type": "stream",
          "name": "stderr",
          "text": [
            "/usr/local/lib/python3.11/dist-packages/transformers/tokenization_utils_base.py:2700: FutureWarning: The `pad_to_max_length` argument is deprecated and will be removed in a future version, use `padding=True` or `padding='longest'` to pad to the longest sequence in the batch, or use `padding='max_length'` to pad to a max length. In this case, you can give a specific length with `max_length` (e.g. `max_length=45`) or leave max_length to None to pad to the maximal input size of the model (e.g. 512 for Bert).\n",
            "  warnings.warn(\n"
          ]
        }
      ],
      "source": [
        "MAX_SEQ_LEN = 40\n",
        "# tokenize and encode sequences in the training set\n",
        "tokens_train = tokenizer.batch_encode_plus(\n",
        "    [str(text) for text in train_text],\n",
        "    max_length = MAX_SEQ_LEN,\n",
        "    pad_to_max_length=True,\n",
        "    truncation=True\n",
        ")\n",
        "\n",
        "# tokenize and encode sequences in the validation set\n",
        "tokens_val = tokenizer.batch_encode_plus(\n",
        "    [str(text) for text in val_text],\n",
        "    max_length = MAX_SEQ_LEN,\n",
        "    pad_to_max_length=True,\n",
        "    truncation=True\n",
        ")\n",
        "\n",
        "# tokenize and encode sequences in the test set\n",
        "tokens_test = tokenizer.batch_encode_plus(\n",
        "    [str(text) for text in test_text],\n",
        "    max_length = MAX_SEQ_LEN,\n",
        "    pad_to_max_length=True,\n",
        "    truncation=True\n",
        ")"
      ]
    },
    {
      "cell_type": "markdown",
      "metadata": {
        "id": "00084fdd"
      },
      "source": [
        "## Freezing BERT Parameters"
      ]
    },
    {
      "cell_type": "code",
      "execution_count": 13,
      "metadata": {
        "id": "1eaq54L371mF"
      },
      "outputs": [],
      "source": [
        "## convert lists to tensors\n",
        "\n",
        "train_seq = torch.tensor(tokens_train['input_ids'])\n",
        "train_mask = torch.tensor(tokens_train['attention_mask'])\n",
        "train_y = torch.tensor(train_labels.tolist())\n",
        "\n",
        "val_seq = torch.tensor(tokens_val['input_ids'])\n",
        "val_mask = torch.tensor(tokens_val['attention_mask'])\n",
        "val_y = torch.tensor(val_labels.tolist())\n",
        "\n",
        "test_seq = torch.tensor(tokens_test['input_ids'])\n",
        "test_mask = torch.tensor(tokens_test['attention_mask'])\n",
        "test_y = torch.tensor(test_labels.tolist())"
      ]
    },
    {
      "cell_type": "markdown",
      "metadata": {
        "id": "57976785"
      },
      "source": [
        "## Model Architecture"
      ]
    },
    {
      "cell_type": "code",
      "execution_count": 14,
      "metadata": {
        "id": "oiMqoQHw78nJ"
      },
      "outputs": [],
      "source": [
        "#define a batch size\n",
        "batch_size = 32\n",
        "\n",
        "# wrap tensors\n",
        "train_data = TensorDataset(train_seq, train_mask, train_y)\n",
        "\n",
        "# sampler for sampling the data during training\n",
        "train_sampler = RandomSampler(train_data)\n",
        "\n",
        "# dataLoader for train set\n",
        "train_dataloader = DataLoader(train_data, sampler=train_sampler, batch_size=batch_size)\n",
        "\n",
        "# wrap tensors\n",
        "val_data = TensorDataset(val_seq, val_mask, val_y)\n",
        "\n",
        "# sampler for sampling the data during training\n",
        "val_sampler = SequentialSampler(val_data)\n",
        "\n",
        "# dataLoader for validation set\n",
        "val_dataloader = DataLoader(val_data, sampler = val_sampler, batch_size=batch_size)"
      ]
    },
    {
      "cell_type": "markdown",
      "metadata": {
        "id": "a91caa4b"
      },
      "source": [
        "## Model Initialization"
      ]
    },
    {
      "cell_type": "code",
      "execution_count": 15,
      "metadata": {
        "id": "Sb4oawNV8Iea"
      },
      "outputs": [],
      "source": [
        "# freeze all the parameters\n",
        "for param in bert.parameters():\n",
        "    param.requires_grad = False"
      ]
    },
    {
      "cell_type": "markdown",
      "metadata": {
        "id": "109c0e78"
      },
      "source": [
        "## Training Setup"
      ]
    },
    {
      "cell_type": "code",
      "execution_count": 16,
      "metadata": {
        "id": "DMEYPGhT8Kaj"
      },
      "outputs": [],
      "source": [
        "class BERT_Arch(nn.Module):\n",
        "\n",
        "    def __init__(self, bert):\n",
        "\n",
        "      super(BERT_Arch, self).__init__()\n",
        "\n",
        "      self.bert = bert\n",
        "\n",
        "      # dropout layer\n",
        "      self.dropout = nn.Dropout(0.1)\n",
        "\n",
        "      self.relu =  nn.ReLU()\n",
        "\n",
        "      # dense layer 1\n",
        "      self.fc1 = nn.Linear(768,512)\n",
        "\n",
        "      # dense layer 2 (Output layer)\n",
        "      self.fc2 = nn.Linear(512,3)\n",
        "\n",
        "      self.softmax = nn.LogSoftmax(dim=1)\n",
        "\n",
        "    #define the forward pass\n",
        "    def forward(self, sent_id, mask):\n",
        "      #pass the inputs to the model\n",
        "      out = self.bert(sent_id, attention_mask=mask)\n",
        "\n",
        "      x = self.fc1(out.pooler_output)\n",
        "\n",
        "      x = self.relu(x)\n",
        "\n",
        "      x = self.dropout(x)\n",
        "\n",
        "      # output layer\n",
        "      x = self.fc2(x)\n",
        "\n",
        "      x = self.softmax(x)\n",
        "\n",
        "      return x"
      ]
    },
    {
      "cell_type": "code",
      "execution_count": 17,
      "metadata": {
        "id": "s8ct1sg08NDq"
      },
      "outputs": [],
      "source": [
        "# pass the pre-trained BERT to our define architecture\n",
        "model = BERT_Arch(bert)\n",
        "\n",
        "# push the model to GPU\n",
        "model = model.to(device)"
      ]
    },
    {
      "cell_type": "code",
      "execution_count": 18,
      "metadata": {
        "id": "DiK_WG3M8VeH"
      },
      "outputs": [],
      "source": [
        "# define the optimizer\n",
        "optimizer = AdamW(model.parameters(), lr = 5e-4)"
      ]
    },
    {
      "cell_type": "markdown",
      "metadata": {
        "id": "07425c67"
      },
      "source": [
        "## Model Training"
      ]
    },
    {
      "cell_type": "code",
      "execution_count": 19,
      "metadata": {
        "colab": {
          "base_uri": "https://localhost:8080/"
        },
        "id": "2EHPXqex8u4N",
        "outputId": "9a04115f-cb82-4934-ffef-50331be8c689"
      },
      "outputs": [
        {
          "output_type": "stream",
          "name": "stdout",
          "text": [
            "Class Weights: [1.06742134 1.17716174 0.82395271]\n"
          ]
        }
      ],
      "source": [
        "#compute the class weights\n",
        "class_weights = compute_class_weight('balanced', classes=np.unique(train_labels), y=train_labels)\n",
        "\n",
        "print(\"Class Weights:\",class_weights)"
      ]
    },
    {
      "cell_type": "markdown",
      "metadata": {
        "id": "5c6a645b"
      },
      "source": [
        "## Model Evaluation"
      ]
    },
    {
      "cell_type": "code",
      "execution_count": 20,
      "metadata": {
        "id": "c2vSNBjE865T"
      },
      "outputs": [],
      "source": [
        "# converting list of class weights to a tensor\n",
        "weights= torch.tensor(class_weights,dtype=torch.float)\n",
        "\n",
        "weights = weights.to(device)\n",
        "\n",
        "cross_entropy  = nn.NLLLoss(weight=weights)\n",
        "\n",
        "epochs = 20"
      ]
    },
    {
      "cell_type": "code",
      "execution_count": 21,
      "metadata": {
        "id": "jq0_suX-87UJ"
      },
      "outputs": [],
      "source": [
        "# function to train the model\n",
        "def train():\n",
        "\n",
        "  model.train()\n",
        "\n",
        "  total_loss, total_accuracy = 0, 0\n",
        "\n",
        "  total_preds=[]\n",
        "\n",
        "  # iterate over batches\n",
        "  for step,batch in enumerate(train_dataloader):\n",
        "\n",
        "    # progress update after every 50 batches.\n",
        "    if step % 50 == 0 and not step == 0:\n",
        "      print('  Batch {:>5,}  of  {:>5,}.'.format(step, len(train_dataloader)))\n",
        "\n",
        "    # push the batch to gpu\n",
        "    batch = [r.to(device) for r in batch]\n",
        "\n",
        "    sent_id, mask, labels = batch\n",
        "\n",
        "    # clear previously calculated gradients\n",
        "    model.zero_grad()\n",
        "\n",
        "    # get model predictions for the current batch\n",
        "    preds = model(sent_id, mask)\n",
        "\n",
        "    # compute the loss between actual and predicted values\n",
        "    loss = cross_entropy(preds, labels)\n",
        "\n",
        "    # add on to the total loss\n",
        "    total_loss = total_loss + loss.item()\n",
        "\n",
        "    # backward pass to calculate the gradients\n",
        "    loss.backward()\n",
        "\n",
        "    # clip the the gradients to 1.0. It helps in preventing the exploding gradient problem\n",
        "    torch.nn.utils.clip_grad_norm_(model.parameters(), 1.0)\n",
        "\n",
        "    # update parameters\n",
        "    optimizer.step()\n",
        "\n",
        "    # model predictions are stored on GPU. So, push it to CPU\n",
        "    preds=preds.detach().cpu().numpy()\n",
        "\n",
        "    # append the model predictions\n",
        "    total_preds.append(preds)\n",
        "\n",
        "  # compute the training loss of the epoch\n",
        "  avg_loss = total_loss / len(train_dataloader)\n",
        "\n",
        "  # predictions are in the form of (no. of batches, size of batch, no. of classes).\n",
        "  # reshape the predictions in form of (number of samples, no. of classes)\n",
        "  total_preds  = np.concatenate(total_preds, axis=0)\n",
        "\n",
        "  #returns the loss and predictions\n",
        "  return avg_loss, total_preds"
      ]
    },
    {
      "cell_type": "markdown",
      "metadata": {
        "id": "74812395"
      },
      "source": [
        "## Loading Best Model"
      ]
    },
    {
      "cell_type": "code",
      "execution_count": 22,
      "metadata": {
        "id": "3T5w5PCa8-tB"
      },
      "outputs": [],
      "source": [
        "# function for evaluating the model\n",
        "def evaluate():\n",
        "\n",
        "  print(\"\\nEvaluating...\")\n",
        "\n",
        "  # deactivate dropout layers\n",
        "  model.eval()\n",
        "\n",
        "  total_loss, total_accuracy = 0, 0\n",
        "\n",
        "  # empty list to save the model predictions\n",
        "  total_preds = []\n",
        "\n",
        "  # iterate over batches\n",
        "  for step,batch in enumerate(val_dataloader):\n",
        "\n",
        "    # Progress update every 50 batches.\n",
        "    if step % 50 == 0 and not step == 0:\n",
        "      # Report progress.\n",
        "      print('  Batch {:>5,}  of  {:>5,}.'.format(step, len(val_dataloader)))\n",
        "\n",
        "    # push the batch to gpu\n",
        "    batch = [t.to(device) for t in batch]\n",
        "\n",
        "    sent_id, mask, labels = batch\n",
        "\n",
        "    # deactivate autograd\n",
        "    with torch.no_grad():\n",
        "\n",
        "      # model predictions\n",
        "      preds = model(sent_id, mask)\n",
        "\n",
        "      # compute the validation loss between actual and predicted values\n",
        "      loss = cross_entropy(preds,labels)\n",
        "\n",
        "      total_loss = total_loss + loss.item()\n",
        "\n",
        "      preds = preds.detach().cpu().numpy()\n",
        "\n",
        "      total_preds.append(preds)\n",
        "\n",
        "  # compute the validation loss of the epoch\n",
        "  avg_loss = total_loss / len(val_dataloader)\n",
        "\n",
        "  # reshape the predictions in form of (number of samples, no. of classes)\n",
        "  total_preds  = np.concatenate(total_preds, axis=0)\n",
        "\n",
        "  return avg_loss, total_preds"
      ]
    },
    {
      "cell_type": "markdown",
      "metadata": {
        "id": "7b3ca9e1"
      },
      "source": [
        "## Predictions on Test Data"
      ]
    },
    {
      "cell_type": "code",
      "execution_count": 23,
      "metadata": {
        "colab": {
          "base_uri": "https://localhost:8080/"
        },
        "id": "scsCMgNA9Bc6",
        "outputId": "e2d51030-6425-4213-f76e-9e9f61fe473e"
      },
      "outputs": [
        {
          "output_type": "stream",
          "name": "stdout",
          "text": [
            "\n",
            " Epoch 1 / 20\n",
            "  Batch    50  of    602.\n",
            "  Batch   100  of    602.\n",
            "  Batch   150  of    602.\n",
            "  Batch   200  of    602.\n",
            "  Batch   250  of    602.\n",
            "  Batch   300  of    602.\n",
            "  Batch   350  of    602.\n",
            "  Batch   400  of    602.\n",
            "  Batch   450  of    602.\n",
            "  Batch   500  of    602.\n",
            "  Batch   550  of    602.\n",
            "  Batch   600  of    602.\n",
            "\n",
            "Evaluating...\n",
            "  Batch    50  of    258.\n",
            "  Batch   100  of    258.\n",
            "  Batch   150  of    258.\n",
            "  Batch   200  of    258.\n",
            "  Batch   250  of    258.\n",
            "\n",
            "Training Loss: 1.026\n",
            "Validation Loss: 0.939\n",
            "\n",
            " Epoch 2 / 20\n",
            "  Batch    50  of    602.\n",
            "  Batch   100  of    602.\n",
            "  Batch   150  of    602.\n",
            "  Batch   200  of    602.\n",
            "  Batch   250  of    602.\n",
            "  Batch   300  of    602.\n",
            "  Batch   350  of    602.\n",
            "  Batch   400  of    602.\n",
            "  Batch   450  of    602.\n",
            "  Batch   500  of    602.\n",
            "  Batch   550  of    602.\n",
            "  Batch   600  of    602.\n",
            "\n",
            "Evaluating...\n",
            "  Batch    50  of    258.\n",
            "  Batch   100  of    258.\n",
            "  Batch   150  of    258.\n",
            "  Batch   200  of    258.\n",
            "  Batch   250  of    258.\n",
            "\n",
            "Training Loss: 0.938\n",
            "Validation Loss: 0.935\n",
            "\n",
            " Epoch 3 / 20\n",
            "  Batch    50  of    602.\n",
            "  Batch   100  of    602.\n",
            "  Batch   150  of    602.\n",
            "  Batch   200  of    602.\n",
            "  Batch   250  of    602.\n",
            "  Batch   300  of    602.\n",
            "  Batch   350  of    602.\n",
            "  Batch   400  of    602.\n",
            "  Batch   450  of    602.\n",
            "  Batch   500  of    602.\n",
            "  Batch   550  of    602.\n",
            "  Batch   600  of    602.\n",
            "\n",
            "Evaluating...\n",
            "  Batch    50  of    258.\n",
            "  Batch   100  of    258.\n",
            "  Batch   150  of    258.\n",
            "  Batch   200  of    258.\n",
            "  Batch   250  of    258.\n",
            "\n",
            "Training Loss: 0.912\n",
            "Validation Loss: 0.883\n",
            "\n",
            " Epoch 4 / 20\n",
            "  Batch    50  of    602.\n",
            "  Batch   100  of    602.\n",
            "  Batch   150  of    602.\n",
            "  Batch   200  of    602.\n",
            "  Batch   250  of    602.\n",
            "  Batch   300  of    602.\n",
            "  Batch   350  of    602.\n",
            "  Batch   400  of    602.\n",
            "  Batch   450  of    602.\n",
            "  Batch   500  of    602.\n",
            "  Batch   550  of    602.\n",
            "  Batch   600  of    602.\n",
            "\n",
            "Evaluating...\n",
            "  Batch    50  of    258.\n",
            "  Batch   100  of    258.\n",
            "  Batch   150  of    258.\n",
            "  Batch   200  of    258.\n",
            "  Batch   250  of    258.\n",
            "\n",
            "Training Loss: 0.900\n",
            "Validation Loss: 0.856\n",
            "\n",
            " Epoch 5 / 20\n",
            "  Batch    50  of    602.\n",
            "  Batch   100  of    602.\n",
            "  Batch   150  of    602.\n",
            "  Batch   200  of    602.\n",
            "  Batch   250  of    602.\n",
            "  Batch   300  of    602.\n",
            "  Batch   350  of    602.\n",
            "  Batch   400  of    602.\n",
            "  Batch   450  of    602.\n",
            "  Batch   500  of    602.\n",
            "  Batch   550  of    602.\n",
            "  Batch   600  of    602.\n",
            "\n",
            "Evaluating...\n",
            "  Batch    50  of    258.\n",
            "  Batch   100  of    258.\n",
            "  Batch   150  of    258.\n",
            "  Batch   200  of    258.\n",
            "  Batch   250  of    258.\n",
            "\n",
            "Training Loss: 0.889\n",
            "Validation Loss: 0.841\n",
            "\n",
            " Epoch 6 / 20\n",
            "  Batch    50  of    602.\n",
            "  Batch   100  of    602.\n",
            "  Batch   150  of    602.\n",
            "  Batch   200  of    602.\n",
            "  Batch   250  of    602.\n",
            "  Batch   300  of    602.\n",
            "  Batch   350  of    602.\n",
            "  Batch   400  of    602.\n",
            "  Batch   450  of    602.\n",
            "  Batch   500  of    602.\n",
            "  Batch   550  of    602.\n",
            "  Batch   600  of    602.\n",
            "\n",
            "Evaluating...\n",
            "  Batch    50  of    258.\n",
            "  Batch   100  of    258.\n",
            "  Batch   150  of    258.\n",
            "  Batch   200  of    258.\n",
            "  Batch   250  of    258.\n",
            "\n",
            "Training Loss: 0.874\n",
            "Validation Loss: 0.934\n",
            "\n",
            " Epoch 7 / 20\n",
            "  Batch    50  of    602.\n",
            "  Batch   100  of    602.\n",
            "  Batch   150  of    602.\n",
            "  Batch   200  of    602.\n",
            "  Batch   250  of    602.\n",
            "  Batch   300  of    602.\n",
            "  Batch   350  of    602.\n",
            "  Batch   400  of    602.\n",
            "  Batch   450  of    602.\n",
            "  Batch   500  of    602.\n",
            "  Batch   550  of    602.\n",
            "  Batch   600  of    602.\n",
            "\n",
            "Evaluating...\n",
            "  Batch    50  of    258.\n",
            "  Batch   100  of    258.\n",
            "  Batch   150  of    258.\n",
            "  Batch   200  of    258.\n",
            "  Batch   250  of    258.\n",
            "\n",
            "Training Loss: 0.879\n",
            "Validation Loss: 0.828\n",
            "\n",
            " Epoch 8 / 20\n",
            "  Batch    50  of    602.\n",
            "  Batch   100  of    602.\n",
            "  Batch   150  of    602.\n",
            "  Batch   200  of    602.\n",
            "  Batch   250  of    602.\n",
            "  Batch   300  of    602.\n",
            "  Batch   350  of    602.\n",
            "  Batch   400  of    602.\n",
            "  Batch   450  of    602.\n",
            "  Batch   500  of    602.\n",
            "  Batch   550  of    602.\n",
            "  Batch   600  of    602.\n",
            "\n",
            "Evaluating...\n",
            "  Batch    50  of    258.\n",
            "  Batch   100  of    258.\n",
            "  Batch   150  of    258.\n",
            "  Batch   200  of    258.\n",
            "  Batch   250  of    258.\n",
            "\n",
            "Training Loss: 0.874\n",
            "Validation Loss: 0.869\n",
            "\n",
            " Epoch 9 / 20\n",
            "  Batch    50  of    602.\n",
            "  Batch   100  of    602.\n",
            "  Batch   150  of    602.\n",
            "  Batch   200  of    602.\n",
            "  Batch   250  of    602.\n",
            "  Batch   300  of    602.\n",
            "  Batch   350  of    602.\n",
            "  Batch   400  of    602.\n",
            "  Batch   450  of    602.\n",
            "  Batch   500  of    602.\n",
            "  Batch   550  of    602.\n",
            "  Batch   600  of    602.\n",
            "\n",
            "Evaluating...\n",
            "  Batch    50  of    258.\n",
            "  Batch   100  of    258.\n",
            "  Batch   150  of    258.\n",
            "  Batch   200  of    258.\n",
            "  Batch   250  of    258.\n",
            "\n",
            "Training Loss: 0.864\n",
            "Validation Loss: 0.831\n",
            "\n",
            " Epoch 10 / 20\n",
            "  Batch    50  of    602.\n",
            "  Batch   100  of    602.\n",
            "  Batch   150  of    602.\n",
            "  Batch   200  of    602.\n",
            "  Batch   250  of    602.\n",
            "  Batch   300  of    602.\n",
            "  Batch   350  of    602.\n",
            "  Batch   400  of    602.\n",
            "  Batch   450  of    602.\n",
            "  Batch   500  of    602.\n",
            "  Batch   550  of    602.\n",
            "  Batch   600  of    602.\n",
            "\n",
            "Evaluating...\n",
            "  Batch    50  of    258.\n",
            "  Batch   100  of    258.\n",
            "  Batch   150  of    258.\n",
            "  Batch   200  of    258.\n",
            "  Batch   250  of    258.\n",
            "\n",
            "Training Loss: 0.860\n",
            "Validation Loss: 0.829\n",
            "\n",
            " Epoch 11 / 20\n",
            "  Batch    50  of    602.\n",
            "  Batch   100  of    602.\n",
            "  Batch   150  of    602.\n",
            "  Batch   200  of    602.\n",
            "  Batch   250  of    602.\n",
            "  Batch   300  of    602.\n",
            "  Batch   350  of    602.\n",
            "  Batch   400  of    602.\n",
            "  Batch   450  of    602.\n",
            "  Batch   500  of    602.\n",
            "  Batch   550  of    602.\n",
            "  Batch   600  of    602.\n",
            "\n",
            "Evaluating...\n",
            "  Batch    50  of    258.\n",
            "  Batch   100  of    258.\n",
            "  Batch   150  of    258.\n",
            "  Batch   200  of    258.\n",
            "  Batch   250  of    258.\n",
            "\n",
            "Training Loss: 0.855\n",
            "Validation Loss: 0.819\n",
            "\n",
            " Epoch 12 / 20\n",
            "  Batch    50  of    602.\n",
            "  Batch   100  of    602.\n",
            "  Batch   150  of    602.\n",
            "  Batch   200  of    602.\n",
            "  Batch   250  of    602.\n",
            "  Batch   300  of    602.\n",
            "  Batch   350  of    602.\n",
            "  Batch   400  of    602.\n",
            "  Batch   450  of    602.\n",
            "  Batch   500  of    602.\n",
            "  Batch   550  of    602.\n",
            "  Batch   600  of    602.\n",
            "\n",
            "Evaluating...\n",
            "  Batch    50  of    258.\n",
            "  Batch   100  of    258.\n",
            "  Batch   150  of    258.\n",
            "  Batch   200  of    258.\n",
            "  Batch   250  of    258.\n",
            "\n",
            "Training Loss: 0.856\n",
            "Validation Loss: 0.840\n",
            "\n",
            " Epoch 13 / 20\n",
            "  Batch    50  of    602.\n",
            "  Batch   100  of    602.\n",
            "  Batch   150  of    602.\n",
            "  Batch   200  of    602.\n",
            "  Batch   250  of    602.\n",
            "  Batch   300  of    602.\n",
            "  Batch   350  of    602.\n",
            "  Batch   400  of    602.\n",
            "  Batch   450  of    602.\n",
            "  Batch   500  of    602.\n",
            "  Batch   550  of    602.\n",
            "  Batch   600  of    602.\n",
            "\n",
            "Evaluating...\n",
            "  Batch    50  of    258.\n",
            "  Batch   100  of    258.\n",
            "  Batch   150  of    258.\n",
            "  Batch   200  of    258.\n",
            "  Batch   250  of    258.\n",
            "\n",
            "Training Loss: 0.849\n",
            "Validation Loss: 0.817\n",
            "\n",
            " Epoch 14 / 20\n",
            "  Batch    50  of    602.\n",
            "  Batch   100  of    602.\n",
            "  Batch   150  of    602.\n",
            "  Batch   200  of    602.\n",
            "  Batch   250  of    602.\n",
            "  Batch   300  of    602.\n",
            "  Batch   350  of    602.\n",
            "  Batch   400  of    602.\n",
            "  Batch   450  of    602.\n",
            "  Batch   500  of    602.\n",
            "  Batch   550  of    602.\n",
            "  Batch   600  of    602.\n",
            "\n",
            "Evaluating...\n",
            "  Batch    50  of    258.\n",
            "  Batch   100  of    258.\n",
            "  Batch   150  of    258.\n",
            "  Batch   200  of    258.\n",
            "  Batch   250  of    258.\n",
            "\n",
            "Training Loss: 0.854\n",
            "Validation Loss: 0.829\n",
            "\n",
            " Epoch 15 / 20\n",
            "  Batch    50  of    602.\n",
            "  Batch   100  of    602.\n",
            "  Batch   150  of    602.\n",
            "  Batch   200  of    602.\n",
            "  Batch   250  of    602.\n",
            "  Batch   300  of    602.\n",
            "  Batch   350  of    602.\n",
            "  Batch   400  of    602.\n",
            "  Batch   450  of    602.\n",
            "  Batch   500  of    602.\n",
            "  Batch   550  of    602.\n",
            "  Batch   600  of    602.\n",
            "\n",
            "Evaluating...\n",
            "  Batch    50  of    258.\n",
            "  Batch   100  of    258.\n",
            "  Batch   150  of    258.\n",
            "  Batch   200  of    258.\n",
            "  Batch   250  of    258.\n",
            "\n",
            "Training Loss: 0.853\n",
            "Validation Loss: 0.824\n",
            "\n",
            " Epoch 16 / 20\n",
            "  Batch    50  of    602.\n",
            "  Batch   100  of    602.\n",
            "  Batch   150  of    602.\n",
            "  Batch   200  of    602.\n",
            "  Batch   250  of    602.\n",
            "  Batch   300  of    602.\n",
            "  Batch   350  of    602.\n",
            "  Batch   400  of    602.\n",
            "  Batch   450  of    602.\n",
            "  Batch   500  of    602.\n",
            "  Batch   550  of    602.\n",
            "  Batch   600  of    602.\n",
            "\n",
            "Evaluating...\n",
            "  Batch    50  of    258.\n",
            "  Batch   100  of    258.\n",
            "  Batch   150  of    258.\n",
            "  Batch   200  of    258.\n",
            "  Batch   250  of    258.\n",
            "\n",
            "Training Loss: 0.851\n",
            "Validation Loss: 0.813\n",
            "\n",
            " Epoch 17 / 20\n",
            "  Batch    50  of    602.\n",
            "  Batch   100  of    602.\n",
            "  Batch   150  of    602.\n",
            "  Batch   200  of    602.\n",
            "  Batch   250  of    602.\n",
            "  Batch   300  of    602.\n",
            "  Batch   350  of    602.\n",
            "  Batch   400  of    602.\n",
            "  Batch   450  of    602.\n",
            "  Batch   500  of    602.\n",
            "  Batch   550  of    602.\n",
            "  Batch   600  of    602.\n",
            "\n",
            "Evaluating...\n",
            "  Batch    50  of    258.\n",
            "  Batch   100  of    258.\n",
            "  Batch   150  of    258.\n",
            "  Batch   200  of    258.\n",
            "  Batch   250  of    258.\n",
            "\n",
            "Training Loss: 0.849\n",
            "Validation Loss: 0.821\n",
            "\n",
            " Epoch 18 / 20\n",
            "  Batch    50  of    602.\n",
            "  Batch   100  of    602.\n",
            "  Batch   150  of    602.\n",
            "  Batch   200  of    602.\n",
            "  Batch   250  of    602.\n",
            "  Batch   300  of    602.\n",
            "  Batch   350  of    602.\n",
            "  Batch   400  of    602.\n",
            "  Batch   450  of    602.\n",
            "  Batch   500  of    602.\n",
            "  Batch   550  of    602.\n",
            "  Batch   600  of    602.\n",
            "\n",
            "Evaluating...\n",
            "  Batch    50  of    258.\n",
            "  Batch   100  of    258.\n",
            "  Batch   150  of    258.\n",
            "  Batch   200  of    258.\n",
            "  Batch   250  of    258.\n",
            "\n",
            "Training Loss: 0.847\n",
            "Validation Loss: 0.814\n",
            "\n",
            " Epoch 19 / 20\n",
            "  Batch    50  of    602.\n",
            "  Batch   100  of    602.\n",
            "  Batch   150  of    602.\n",
            "  Batch   200  of    602.\n",
            "  Batch   250  of    602.\n",
            "  Batch   300  of    602.\n",
            "  Batch   350  of    602.\n",
            "  Batch   400  of    602.\n",
            "  Batch   450  of    602.\n",
            "  Batch   500  of    602.\n",
            "  Batch   550  of    602.\n",
            "  Batch   600  of    602.\n",
            "\n",
            "Evaluating...\n",
            "  Batch    50  of    258.\n",
            "  Batch   100  of    258.\n",
            "  Batch   150  of    258.\n",
            "  Batch   200  of    258.\n",
            "  Batch   250  of    258.\n",
            "\n",
            "Training Loss: 0.843\n",
            "Validation Loss: 0.830\n",
            "\n",
            " Epoch 20 / 20\n",
            "  Batch    50  of    602.\n",
            "  Batch   100  of    602.\n",
            "  Batch   150  of    602.\n",
            "  Batch   200  of    602.\n",
            "  Batch   250  of    602.\n",
            "  Batch   300  of    602.\n",
            "  Batch   350  of    602.\n",
            "  Batch   400  of    602.\n",
            "  Batch   450  of    602.\n",
            "  Batch   500  of    602.\n",
            "  Batch   550  of    602.\n",
            "  Batch   600  of    602.\n",
            "\n",
            "Evaluating...\n",
            "  Batch    50  of    258.\n",
            "  Batch   100  of    258.\n",
            "  Batch   150  of    258.\n",
            "  Batch   200  of    258.\n",
            "  Batch   250  of    258.\n",
            "\n",
            "Training Loss: 0.844\n",
            "Validation Loss: 0.816\n"
          ]
        }
      ],
      "source": [
        "# set initial loss to infinite\n",
        "best_valid_loss = float('inf')\n",
        "\n",
        "# empty lists to store training and validation loss of each epoch\n",
        "train_losses=[]\n",
        "valid_losses=[]\n",
        "\n",
        "#for each epoch\n",
        "for epoch in range(epochs):\n",
        "\n",
        "    print('\\n Epoch {:} / {:}'.format(epoch + 1, epochs))\n",
        "\n",
        "    #train model\n",
        "    train_loss, _ = train()\n",
        "\n",
        "    #evaluate model\n",
        "    valid_loss, _ = evaluate()\n",
        "\n",
        "    #save the best model\n",
        "    if valid_loss < best_valid_loss:\n",
        "        best_valid_loss = valid_loss\n",
        "        torch.save(model.state_dict(), 'saved_weights.pt')\n",
        "\n",
        "    # append training and validation loss\n",
        "    train_losses.append(train_loss)\n",
        "    valid_losses.append(valid_loss)\n",
        "\n",
        "    print(f'\\nTraining Loss: {train_loss:.3f}')\n",
        "    print(f'Validation Loss: {valid_loss:.3f}')"
      ]
    },
    {
      "cell_type": "code",
      "execution_count": 24,
      "metadata": {
        "colab": {
          "base_uri": "https://localhost:8080/"
        },
        "id": "6VVA-B0H_Ciq",
        "outputId": "8ed205db-dacc-451c-912b-1bc552706ff5"
      },
      "outputs": [
        {
          "output_type": "execute_result",
          "data": {
            "text/plain": [
              "<All keys matched successfully>"
            ]
          },
          "metadata": {},
          "execution_count": 24
        }
      ],
      "source": [
        "#load weights of best model\n",
        "path = 'saved_weights.pt'\n",
        "model.load_state_dict(torch.load(path))"
      ]
    },
    {
      "cell_type": "code",
      "execution_count": 25,
      "metadata": {
        "id": "1Ec3Gle6EuBk"
      },
      "outputs": [],
      "source": [
        "# get predictions for test data\n",
        "with torch.no_grad():\n",
        "  preds = model(test_seq.to(device), test_mask.to(device))\n",
        "  preds = preds.detach().cpu().numpy()"
      ]
    },
    {
      "cell_type": "code",
      "execution_count": 26,
      "metadata": {
        "id": "coeSDahQEzsx"
      },
      "outputs": [],
      "source": [
        "preds = np.argmax(preds, axis = 1)"
      ]
    },
    {
      "cell_type": "code",
      "execution_count": 27,
      "metadata": {
        "colab": {
          "base_uri": "https://localhost:8080/"
        },
        "id": "ibKQOSooE4_S",
        "outputId": "4f9b7412-d712-4e6c-be42-1f9e0383ccec"
      },
      "outputs": [
        {
          "output_type": "stream",
          "name": "stdout",
          "text": [
            "              precision    recall  f1-score   support\n",
            "\n",
            "           0       0.69      0.66      0.67      1103\n",
            "           1       0.54      0.80      0.64      1001\n",
            "           2       0.65      0.45      0.53      1430\n",
            "\n",
            "    accuracy                           0.61      3534\n",
            "   macro avg       0.62      0.64      0.62      3534\n",
            "weighted avg       0.63      0.61      0.61      3534\n",
            "\n"
          ]
        }
      ],
      "source": [
        "print(classification_report(test_y, preds))"
      ]
    }
  ],
  "metadata": {
    "accelerator": "GPU",
    "colab": {
      "gpuType": "T4",
      "provenance": []
    },
    "kernelspec": {
      "display_name": "Python 3",
      "name": "python3"
    },
    "language_info": {
      "name": "python"
    }
  },
  "nbformat": 4,
  "nbformat_minor": 0
}